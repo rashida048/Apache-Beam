{
  "nbformat": 4,
  "nbformat_minor": 0,
  "metadata": {
    "colab": {
      "provenance": [],
      "authorship_tag": "ABX9TyPt4gUWpEdy6uB6jO/dkWSF",
      "include_colab_link": true
    },
    "kernelspec": {
      "name": "python3",
      "display_name": "Python 3"
    },
    "language_info": {
      "name": "python"
    }
  },
  "cells": [
    {
      "cell_type": "markdown",
      "metadata": {
        "id": "view-in-github",
        "colab_type": "text"
      },
      "source": [
        "<a href=\"https://colab.research.google.com/github/rashida048/Apache-Beam/blob/main/ParDo.ipynb\" target=\"_parent\"><img src=\"https://colab.research.google.com/assets/colab-badge.svg\" alt=\"Open In Colab\"/></a>"
      ]
    },
    {
      "cell_type": "code",
      "execution_count": null,
      "metadata": {
        "id": "fJv9n0zOxe4C"
      },
      "outputs": [],
      "source": [
        "!pip install --quiet apache_beam"
      ]
    },
    {
      "cell_type": "code",
      "source": [
        "mkdir -p data"
      ],
      "metadata": {
        "id": "K1a-l93SxhhM"
      },
      "execution_count": null,
      "outputs": []
    },
    {
      "cell_type": "code",
      "source": [
        "ls"
      ],
      "metadata": {
        "colab": {
          "base_uri": "https://localhost:8080/"
        },
        "id": "wpWI8xVzxobD",
        "outputId": "290a6b9d-2126-4155-ddcf-c955f4d07a60"
      },
      "execution_count": null,
      "outputs": [
        {
          "output_type": "stream",
          "name": "stdout",
          "text": [
            "\u001b[0m\u001b[01;34mdata\u001b[0m/  \u001b[01;34msample_data\u001b[0m/\n"
          ]
        }
      ]
    },
    {
      "cell_type": "code",
      "source": [
        "import apache_beam as beam"
      ],
      "metadata": {
        "id": "q7plpcmIxpGW"
      },
      "execution_count": null,
      "outputs": []
    },
    {
      "cell_type": "code",
      "source": [
        "#ParDo as Map\n",
        "class SplitRow(beam.DoFn):\n",
        "  def process(self, element):\n",
        "    return [element.split(',')]\n",
        "\n",
        "p1 = beam.Pipeline()\n",
        "attendance_count = (p1\n",
        "                    |beam.io.ReadFromText('data/dept_data.txt')\n",
        "                    |beam.ParDo(SplitRow())\n",
        "                    #|beam.Filter(filtering)\n",
        "                    #|beam.Map(lambda record: (record[1], 1))\n",
        "                    #|beam.CombinePerKey(sum)\n",
        "                    |beam.io.WriteToText('data/output_new1'))\n",
        "\n",
        "p1.run()\n",
        "!head -n 5 data/output_new1-00000-of-00001"
      ],
      "metadata": {
        "colab": {
          "base_uri": "https://localhost:8080/"
        },
        "id": "SiVAEKUMxrbb",
        "outputId": "ac4df711-3f2a-4f12-9a5c-0d0f0ebea9b2"
      },
      "execution_count": null,
      "outputs": [
        {
          "output_type": "stream",
          "name": "stdout",
          "text": [
            "['149633CM', 'Marco', '10', 'Accounts', '1-01-2019']\n",
            "['212539MU', 'Rebekah', '10', 'Accounts', '1-01-2019']\n",
            "['231555ZZ', 'Itoe', '10', 'Accounts', '1-01-2019']\n",
            "['503996WI', 'Edouard', '10', 'Accounts', '1-01-2019']\n",
            "['704275DC', 'Kyle', '10', 'Accounts', '1-01-2019']\n"
          ]
        }
      ]
    },
    {
      "cell_type": "code",
      "source": [
        "#ParDo as FlatMap\n",
        "class SplitRow(beam.DoFn):\n",
        "  def process(self, element):\n",
        "    return element.split(',')\n",
        "\n",
        "p2 = beam.Pipeline()\n",
        "attendance_count = (p2\n",
        "                    |beam.io.ReadFromText('data/dept_data.txt')\n",
        "                    |beam.ParDo(SplitRow())\n",
        "                    #|beam.Filter(filtering)\n",
        "                    #|beam.Map(lambda record: (record[1], 1))\n",
        "                    #|beam.CombinePerKey(sum)\n",
        "                    |beam.io.WriteToText('data/output_new2'))\n",
        "\n",
        "p2.run()\n",
        "!head -n 10 data/output_new2-00000-of-00001"
      ],
      "metadata": {
        "colab": {
          "base_uri": "https://localhost:8080/"
        },
        "id": "wbkmG8Lx0Hku",
        "outputId": "97f79fb4-669d-4ceb-86cf-19af1d7f44f1"
      },
      "execution_count": null,
      "outputs": [
        {
          "output_type": "stream",
          "name": "stderr",
          "text": [
            "WARNING:apache_beam.io.filebasedsink:Deleting 1 existing files in target path matching: -*-of-%(num_shards)05d\n"
          ]
        },
        {
          "output_type": "stream",
          "name": "stdout",
          "text": [
            "149633CM\n",
            "Marco\n",
            "10\n",
            "Accounts\n",
            "1-01-2019\n",
            "212539MU\n",
            "Rebekah\n",
            "10\n",
            "Accounts\n",
            "1-01-2019\n"
          ]
        }
      ]
    },
    {
      "cell_type": "code",
      "source": [
        "def SplitRow(element):\n",
        "  return element.split(',')\n",
        "\n",
        "def filtering(record):\n",
        "  return record[3] == \"Accounts\"\n",
        "\n",
        "p6 = beam.Pipeline()\n",
        "attendance_count = (p6\n",
        "                    |beam.io.ReadFromText('data/dept_data.txt')\n",
        "                    |beam.Map(SplitRow)\n",
        "                    #|beam.Map(lambda record: record.split(',))\n",
        "                    |beam.Filter(filtering)\n",
        "                    #|beam.Map(lambda record: record[3] == 'Account')\n",
        "                    |beam.Map(lambda record: (record[1], 1))\n",
        "                    |beam.io.WriteToText('data/output_new6'))\n",
        "\n",
        "p6.run()\n",
        "!head -n 5 data/output_new6-00000-of-00001"
      ],
      "metadata": {
        "colab": {
          "base_uri": "https://localhost:8080/"
        },
        "id": "9VbkDxCa2BMv",
        "outputId": "47f1156b-e8c5-4b5d-98a4-e0f9cf66297f"
      },
      "execution_count": null,
      "outputs": [
        {
          "output_type": "stream",
          "name": "stdout",
          "text": [
            "('Marco', 1)\n",
            "('Rebekah', 1)\n",
            "('Itoe', 1)\n",
            "('Edouard', 1)\n",
            "('Kyle', 1)\n"
          ]
        }
      ]
    },
    {
      "cell_type": "code",
      "source": [
        "#ParDo as FlatMap\n",
        "class SplitRow(beam.DoFn):\n",
        "  def process(self, element):\n",
        "    return [element.split(',')]\n",
        "\n",
        "class FilterAccountsEmployee(beam.DoFn):\n",
        "  def process(self, element):\n",
        "    if element[3] == 'Accounts':\n",
        "        return [element]\n",
        "\n",
        "class PairEmployees(beam.DoFn):\n",
        "  def process(self, element):\n",
        "    return [(element[3]+ ', '+ element[1], 1)]\n",
        "\n",
        "class Counting(beam.DoFn):\n",
        "  def process(self, element):\n",
        "    (key, values) = element\n",
        "    return [(key, sum(values))]\n",
        "\n",
        "\n",
        "p4 = beam.Pipeline()\n",
        "attendance_count = (p4\n",
        "                    |beam.io.ReadFromText('data/dept_data.txt')\n",
        "                    |beam.ParDo(SplitRow())\n",
        "                    |beam.ParDo(FilterAccountsEmployee())\n",
        "                    |beam.ParDo(PairEmployees())\n",
        "                    | 'Group' >> beam.GroupByKey()\n",
        "                    | 'Sum Using ParDo' >> beam.ParDo(Counting())\n",
        "                    #|beam.Map(lambda record: (record[1], 1))\n",
        "                    #|beam.CombinePerKey(sum)\n",
        "                    |beam.io.WriteToText('data/output_new4'))\n",
        "\n",
        "p4.run()\n",
        "!head -n 10 data/output_new4-00000-of-00001"
      ],
      "metadata": {
        "colab": {
          "base_uri": "https://localhost:8080/"
        },
        "id": "J7iT2L5k0Vlp",
        "outputId": "26910542-2293-4c7c-cad7-689390974834"
      },
      "execution_count": null,
      "outputs": [
        {
          "output_type": "stream",
          "name": "stdout",
          "text": [
            "('Accounts, Marco', 31)\n",
            "('Accounts, Rebekah', 31)\n",
            "('Accounts, Itoe', 31)\n",
            "('Accounts, Edouard', 31)\n",
            "('Accounts, Kyle', 62)\n",
            "('Accounts, Kumiko', 31)\n",
            "('Accounts, Gaston', 31)\n",
            "('Accounts, Ayumi', 30)\n"
          ]
        }
      ]
    },
    {
      "cell_type": "markdown",
      "source": [
        "**Combiner**"
      ],
      "metadata": {
        "id": "8oDwNvLhM9Ih"
      }
    },
    {
      "cell_type": "code",
      "source": [
        "class AverageFn(beam.CombineFn):\n",
        "  def create_accumulator(self):\n",
        "    return (0.0, 0) #initialize (sum, count)\n",
        "\n",
        "  def add_input(self, sum_count, input):\n",
        "    (sum, count) = sum_count\n",
        "    return sum+input, count+1\n",
        "\n",
        "  def merge_accumulators(self, accumulators):\n",
        "    ind_sums, ind_counts = zip(*accumulators) #zip - [(27, 3), (39, 3), (18, 2)] --> [(27, 39, 18), (3, 3, 2)]\n",
        "    return sum(ind_sums), sum(ind_counts)   #(84, 8)\n",
        "\n",
        "  def extract_output(self, sum_count):\n",
        "    (sum, count) = sum_count\n",
        "    return sum / count if count else float('NaN')\n",
        "\n",
        "\n",
        "p5 = beam.Pipeline()\n",
        "\n",
        "small_sum = (p5\n",
        "             |beam.Create([15, 5, 7, 7, 9, 23, 13, 5])\n",
        "             |beam.CombineGlobally(AverageFn())\n",
        "             | 'Write results' >> beam.io.WriteToText('data/combine')\n",
        ")\n",
        "\n",
        "p5.run()"
      ],
      "metadata": {
        "colab": {
          "base_uri": "https://localhost:8080/"
        },
        "id": "__WoMCjI1Oee",
        "outputId": "e6d07cdc-e362-4a55-fab3-003fc932a960"
      },
      "execution_count": null,
      "outputs": [
        {
          "output_type": "execute_result",
          "data": {
            "text/plain": [
              "<apache_beam.runners.portability.fn_api_runner.fn_runner.RunnerResult at 0x7f483ca91030>"
            ]
          },
          "metadata": {},
          "execution_count": 22
        }
      ]
    },
    {
      "cell_type": "code",
      "source": [
        "!head -n 10 data/combine-00000-of-00001"
      ],
      "metadata": {
        "colab": {
          "base_uri": "https://localhost:8080/"
        },
        "id": "yvF6Ti5gNCd8",
        "outputId": "3d11c02b-a46c-4e5d-c391-f9647d4dddad"
      },
      "execution_count": null,
      "outputs": [
        {
          "output_type": "stream",
          "name": "stdout",
          "text": [
            "10.5\n"
          ]
        }
      ]
    },
    {
      "cell_type": "code",
      "source": [],
      "metadata": {
        "id": "ZsrPr1GoQ2F5"
      },
      "execution_count": null,
      "outputs": []
    }
  ]
}