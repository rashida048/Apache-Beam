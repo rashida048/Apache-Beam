{
  "nbformat": 4,
  "nbformat_minor": 0,
  "metadata": {
    "colab": {
      "provenance": [],
      "authorship_tag": "ABX9TyPTuIkKTHTkcvprAt2bRMSO",
      "include_colab_link": true
    },
    "kernelspec": {
      "name": "python3",
      "display_name": "Python 3"
    },
    "language_info": {
      "name": "python"
    }
  },
  "cells": [
    {
      "cell_type": "markdown",
      "metadata": {
        "id": "view-in-github",
        "colab_type": "text"
      },
      "source": [
        "<a href=\"https://colab.research.google.com/github/rashida048/Apache-Beam/blob/main/additional_inputs_and_outputs.ipynb\" target=\"_parent\"><img src=\"https://colab.research.google.com/assets/colab-badge.svg\" alt=\"Open In Colab\"/></a>"
      ]
    },
    {
      "cell_type": "code",
      "execution_count": null,
      "metadata": {
        "id": "fJv9n0zOxe4C",
        "colab": {
          "base_uri": "https://localhost:8080/"
        },
        "outputId": "4bdd5e70-f630-4f07-d326-435c999b4ea1"
      },
      "outputs": [
        {
          "output_type": "stream",
          "name": "stdout",
          "text": [
            "\u001b[2K     \u001b[90m━━━━━━━━━━━━━━━━━━━━━━━━━━━━━━━━━━━━━━━━\u001b[0m \u001b[32m14.3/14.3 MB\u001b[0m \u001b[31m92.2 MB/s\u001b[0m eta \u001b[36m0:00:00\u001b[0m\n",
            "\u001b[2K     \u001b[90m━━━━━━━━━━━━━━━━━━━━━━━━━━━━━━━━━━━━━━━━\u001b[0m \u001b[32m89.7/89.7 kB\u001b[0m \u001b[31m11.9 MB/s\u001b[0m eta \u001b[36m0:00:00\u001b[0m\n",
            "\u001b[?25h  Preparing metadata (setup.py) ... \u001b[?25l\u001b[?25hdone\n",
            "\u001b[2K     \u001b[90m━━━━━━━━━━━━━━━━━━━━━━━━━━━━━━━━━━━━━━━\u001b[0m \u001b[32m137.0/137.0 kB\u001b[0m \u001b[31m7.2 MB/s\u001b[0m eta \u001b[36m0:00:00\u001b[0m\n",
            "\u001b[2K     \u001b[90m━━━━━━━━━━━━━━━━━━━━━━━━━━━━━━━━━━━━━━\u001b[0m \u001b[32m152.0/152.0 kB\u001b[0m \u001b[31m14.4 MB/s\u001b[0m eta \u001b[36m0:00:00\u001b[0m\n",
            "\u001b[?25h  Preparing metadata (setup.py) ... \u001b[?25l\u001b[?25hdone\n",
            "\u001b[2K     \u001b[90m━━━━━━━━━━━━━━━━━━━━━━━━━━━━━━━━━━━━━━━━\u001b[0m \u001b[32m2.7/2.7 MB\u001b[0m \u001b[31m116.8 MB/s\u001b[0m eta \u001b[36m0:00:00\u001b[0m\n",
            "\u001b[2K     \u001b[90m━━━━━━━━━━━━━━━━━━━━━━━━━━━━━━━━━━━━━━\u001b[0m \u001b[32m648.9/648.9 kB\u001b[0m \u001b[31m59.7 MB/s\u001b[0m eta \u001b[36m0:00:00\u001b[0m\n",
            "\u001b[2K     \u001b[90m━━━━━━━━━━━━━━━━━━━━━━━━━━━━━━━━━━━━━━━━\u001b[0m \u001b[32m2.7/2.7 MB\u001b[0m \u001b[31m115.3 MB/s\u001b[0m eta \u001b[36m0:00:00\u001b[0m\n",
            "\u001b[?25h  Preparing metadata (setup.py) ... \u001b[?25l\u001b[?25hdone\n",
            "\u001b[2K     \u001b[90m━━━━━━━━━━━━━━━━━━━━━━━━━━━━━━━━━━━━━━\u001b[0m \u001b[32m283.7/283.7 kB\u001b[0m \u001b[31m27.9 MB/s\u001b[0m eta \u001b[36m0:00:00\u001b[0m\n",
            "\u001b[?25h  Building wheel for crcmod (setup.py) ... \u001b[?25l\u001b[?25hdone\n",
            "  Building wheel for dill (setup.py) ... \u001b[?25l\u001b[?25hdone\n",
            "  Building wheel for docopt (setup.py) ... \u001b[?25l\u001b[?25hdone\n"
          ]
        }
      ],
      "source": [
        "!pip install --quiet apache_beam"
      ]
    },
    {
      "cell_type": "code",
      "source": [
        "mkdir -p data"
      ],
      "metadata": {
        "id": "K1a-l93SxhhM"
      },
      "execution_count": null,
      "outputs": []
    },
    {
      "cell_type": "code",
      "source": [
        "ls"
      ],
      "metadata": {
        "colab": {
          "base_uri": "https://localhost:8080/"
        },
        "id": "wpWI8xVzxobD",
        "outputId": "fe313660-0409-4c69-90c9-58618e07c487"
      },
      "execution_count": null,
      "outputs": [
        {
          "output_type": "stream",
          "name": "stdout",
          "text": [
            "\u001b[0m\u001b[01;34mdata\u001b[0m/  \u001b[01;34msample_data\u001b[0m/\n"
          ]
        }
      ]
    },
    {
      "cell_type": "code",
      "source": [
        "import apache_beam as beam"
      ],
      "metadata": {
        "id": "q7plpcmIxpGW"
      },
      "execution_count": null,
      "outputs": []
    },
    {
      "cell_type": "code",
      "source": [
        "#ParDo as Map\n",
        "class SplitRow(beam.DoFn):\n",
        "  def process(self, element):\n",
        "    return [element.split(',')]\n",
        "\n",
        "p1 = beam.Pipeline()\n",
        "attendance_count = (p1\n",
        "                    |beam.io.ReadFromText('data/dept_data.txt')\n",
        "                    |beam.ParDo(SplitRow())\n",
        "                    #|beam.Filter(filtering)\n",
        "                    #|beam.Map(lambda record: (record[1], 1))\n",
        "                    #|beam.CombinePerKey(sum)\n",
        "                    |beam.io.WriteToText('data/output_new1'))\n",
        "\n",
        "p1.run()\n",
        "!head -n 5 data/output_new1-00000-of-00001"
      ],
      "metadata": {
        "colab": {
          "base_uri": "https://localhost:8080/"
        },
        "id": "SiVAEKUMxrbb",
        "outputId": "ac4df711-3f2a-4f12-9a5c-0d0f0ebea9b2"
      },
      "execution_count": null,
      "outputs": [
        {
          "output_type": "stream",
          "name": "stdout",
          "text": [
            "['149633CM', 'Marco', '10', 'Accounts', '1-01-2019']\n",
            "['212539MU', 'Rebekah', '10', 'Accounts', '1-01-2019']\n",
            "['231555ZZ', 'Itoe', '10', 'Accounts', '1-01-2019']\n",
            "['503996WI', 'Edouard', '10', 'Accounts', '1-01-2019']\n",
            "['704275DC', 'Kyle', '10', 'Accounts', '1-01-2019']\n"
          ]
        }
      ]
    },
    {
      "cell_type": "code",
      "source": [
        "#ParDo as FlatMap\n",
        "class SplitRow(beam.DoFn):\n",
        "  def process(self, element):\n",
        "    return element.split(',')\n",
        "\n",
        "p2 = beam.Pipeline()\n",
        "attendance_count = (p2\n",
        "                    |beam.io.ReadFromText('data/dept_data.txt')\n",
        "                    |beam.ParDo(SplitRow())\n",
        "                    #|beam.Filter(filtering)\n",
        "                    #|beam.Map(lambda record: (record[1], 1))\n",
        "                    #|beam.CombinePerKey(sum)\n",
        "                    |beam.io.WriteToText('data/output_new2'))\n",
        "\n",
        "p2.run()\n",
        "!head -n 10 data/output_new2-00000-of-00001"
      ],
      "metadata": {
        "colab": {
          "base_uri": "https://localhost:8080/"
        },
        "id": "wbkmG8Lx0Hku",
        "outputId": "97f79fb4-669d-4ceb-86cf-19af1d7f44f1"
      },
      "execution_count": null,
      "outputs": [
        {
          "output_type": "stream",
          "name": "stderr",
          "text": [
            "WARNING:apache_beam.io.filebasedsink:Deleting 1 existing files in target path matching: -*-of-%(num_shards)05d\n"
          ]
        },
        {
          "output_type": "stream",
          "name": "stdout",
          "text": [
            "149633CM\n",
            "Marco\n",
            "10\n",
            "Accounts\n",
            "1-01-2019\n",
            "212539MU\n",
            "Rebekah\n",
            "10\n",
            "Accounts\n",
            "1-01-2019\n"
          ]
        }
      ]
    },
    {
      "cell_type": "code",
      "source": [
        "def SplitRow(element):\n",
        "  return element.split(',')\n",
        "\n",
        "def filtering(record):\n",
        "  return record[3] == \"Accounts\"\n",
        "\n",
        "p6 = beam.Pipeline()\n",
        "attendance_count = (p6\n",
        "                    |beam.io.ReadFromText('data/dept_data.txt')\n",
        "                    |beam.Map(SplitRow)\n",
        "                    #|beam.Map(lambda record: record.split(',))\n",
        "                    |beam.Filter(filtering)\n",
        "                    #|beam.Map(lambda record: record[3] == 'Account')\n",
        "                    |beam.Map(lambda record: (record[1], 1))\n",
        "                    |beam.io.WriteToText('data/output_new6'))\n",
        "\n",
        "p6.run()\n",
        "!head -n 5 data/output_new6-00000-of-00001"
      ],
      "metadata": {
        "colab": {
          "base_uri": "https://localhost:8080/"
        },
        "id": "9VbkDxCa2BMv",
        "outputId": "47f1156b-e8c5-4b5d-98a4-e0f9cf66297f"
      },
      "execution_count": null,
      "outputs": [
        {
          "output_type": "stream",
          "name": "stdout",
          "text": [
            "('Marco', 1)\n",
            "('Rebekah', 1)\n",
            "('Itoe', 1)\n",
            "('Edouard', 1)\n",
            "('Kyle', 1)\n"
          ]
        }
      ]
    },
    {
      "cell_type": "code",
      "source": [
        "#ParDo as FlatMap\n",
        "class SplitRow(beam.DoFn):\n",
        "  def process(self, element):\n",
        "    return [element.split(',')]\n",
        "\n",
        "class FilterAccountsEmployee(beam.DoFn):\n",
        "  def process(self, element):\n",
        "    if element[3] == 'Accounts':\n",
        "        return [element]\n",
        "\n",
        "class PairEmployees(beam.DoFn):\n",
        "  def process(self, element):\n",
        "    return [(element[3]+ ', '+ element[1], 1)]\n",
        "\n",
        "class Counting(beam.DoFn):\n",
        "  def process(self, element):\n",
        "    (key, values) = element\n",
        "    return [(key, sum(values))]\n",
        "\n",
        "\n",
        "p4 = beam.Pipeline()\n",
        "attendance_count = (p4\n",
        "                    |beam.io.ReadFromText('data/dept_data.txt')\n",
        "                    |beam.ParDo(SplitRow())\n",
        "                    |beam.ParDo(FilterAccountsEmployee())\n",
        "                    |beam.ParDo(PairEmployees())\n",
        "                    | 'Group' >> beam.GroupByKey()\n",
        "                    | 'Sum Using ParDo' >> beam.ParDo(Counting())\n",
        "                    #|beam.Map(lambda record: (record[1], 1))\n",
        "                    #|beam.CombinePerKey(sum)\n",
        "                    |beam.io.WriteToText('data/output_new4'))\n",
        "\n",
        "p4.run()\n",
        "!head -n 10 data/output_new4-00000-of-00001"
      ],
      "metadata": {
        "colab": {
          "base_uri": "https://localhost:8080/"
        },
        "id": "J7iT2L5k0Vlp",
        "outputId": "26910542-2293-4c7c-cad7-689390974834"
      },
      "execution_count": null,
      "outputs": [
        {
          "output_type": "stream",
          "name": "stdout",
          "text": [
            "('Accounts, Marco', 31)\n",
            "('Accounts, Rebekah', 31)\n",
            "('Accounts, Itoe', 31)\n",
            "('Accounts, Edouard', 31)\n",
            "('Accounts, Kyle', 62)\n",
            "('Accounts, Kumiko', 31)\n",
            "('Accounts, Gaston', 31)\n",
            "('Accounts, Ayumi', 30)\n"
          ]
        }
      ]
    },
    {
      "cell_type": "markdown",
      "source": [
        "**Combiner**"
      ],
      "metadata": {
        "id": "8oDwNvLhM9Ih"
      }
    },
    {
      "cell_type": "code",
      "source": [
        "class AverageFn(beam.CombineFn):\n",
        "  def create_accumulator(self):\n",
        "    return (0.0, 0) #initialize (sum, count)\n",
        "\n",
        "  def add_input(self, sum_count, input):\n",
        "    (sum, count) = sum_count\n",
        "    return sum+input, count+1\n",
        "\n",
        "  def merge_accumulators(self, accumulators):\n",
        "    ind_sums, ind_counts = zip(*accumulators) #zip - [(27, 3), (39, 3), (18, 2)] --> [(27, 39, 18), (3, 3, 2)]\n",
        "    return sum(ind_sums), sum(ind_counts)   #(84, 8)\n",
        "\n",
        "  def extract_output(self, sum_count):\n",
        "    (sum, count) = sum_count\n",
        "    return sum / count if count else float('NaN')\n",
        "\n",
        "\n",
        "p5 = beam.Pipeline()\n",
        "\n",
        "small_sum = (p5\n",
        "             |beam.Create([15, 5, 7, 7, 9, 23, 13, 5])\n",
        "             |beam.CombineGlobally(AverageFn())\n",
        "             | 'Write results' >> beam.io.WriteToText('data/combine')\n",
        ")\n",
        "\n",
        "p5.run()"
      ],
      "metadata": {
        "colab": {
          "base_uri": "https://localhost:8080/"
        },
        "id": "__WoMCjI1Oee",
        "outputId": "e6d07cdc-e362-4a55-fab3-003fc932a960"
      },
      "execution_count": null,
      "outputs": [
        {
          "output_type": "execute_result",
          "data": {
            "text/plain": [
              "<apache_beam.runners.portability.fn_api_runner.fn_runner.RunnerResult at 0x7f483ca91030>"
            ]
          },
          "metadata": {},
          "execution_count": 22
        }
      ]
    },
    {
      "cell_type": "code",
      "source": [
        "!head -n 10 data/combine-00000-of-00001"
      ],
      "metadata": {
        "colab": {
          "base_uri": "https://localhost:8080/"
        },
        "id": "yvF6Ti5gNCd8",
        "outputId": "3d11c02b-a46c-4e5d-c391-f9647d4dddad"
      },
      "execution_count": null,
      "outputs": [
        {
          "output_type": "stream",
          "name": "stdout",
          "text": [
            "10.5\n"
          ]
        }
      ]
    },
    {
      "cell_type": "code",
      "source": [
        "side_list = list()\n",
        "\n",
        "with open ('data/exclude_ids.txt', 'r') as my_file:\n",
        "  for line in my_file:\n",
        "    side_list.append(line.rstrip())\n",
        "\n",
        "p6 = beam.Pipeline()\n",
        "\n",
        "class FilterUsingLength(beam.DoFn):\n",
        "  def process(self, element, side_list, lower_bound, upper_bound=float('inf')):\n",
        "    id = element.split(',')[0]\n",
        "    name = element.split(',')[1]\n",
        "    #id = id.decode('utf-8', 'ignore').encode(\"utf-8\")\n",
        "    element_list = element.split(',')\n",
        "    if (lower_bound <= len(name) <= upper_bound) and id not in side_list:\n",
        "      #print([element_list])\n",
        "      return [element_list]\n",
        "\n",
        "small_names = (p6\n",
        "               | \"Read from text file\" >> beam.io.ReadFromText('data/dept_data.txt')\n",
        "               | \"ParDo with side inputs\" >> beam.ParDo(FilterUsingLength(), side_list, 3, 10)\n",
        "               #|beam.Map(print)\n",
        "               | beam.Filter(lambda record: record[3] == \"Accounts\")\n",
        "               | beam.Map(lambda record: (record[0] + \" \" + record[1], 1))\n",
        "               | beam.CombinePerKey(sum)\n",
        "               | \"write results\" >> beam.io.WriteToText('data/output1')\n",
        "               )\n",
        "\n",
        "p6.run()"
      ],
      "metadata": {
        "id": "ZsrPr1GoQ2F5",
        "colab": {
          "base_uri": "https://localhost:8080/"
        },
        "outputId": "7077282c-0bb7-4eb4-c7f1-85235ec2ad01"
      },
      "execution_count": null,
      "outputs": [
        {
          "output_type": "stream",
          "name": "stderr",
          "text": [
            "WARNING:apache_beam.io.filebasedsink:Deleting 1 existing files in target path matching: -*-of-%(num_shards)05d\n"
          ]
        },
        {
          "output_type": "execute_result",
          "data": {
            "text/plain": [
              "<apache_beam.runners.portability.fn_api_runner.fn_runner.RunnerResult at 0x7fba290280a0>"
            ]
          },
          "metadata": {},
          "execution_count": 33
        }
      ]
    },
    {
      "cell_type": "code",
      "source": [
        "!head -n 10 data/output1-00000-of-00001"
      ],
      "metadata": {
        "colab": {
          "base_uri": "https://localhost:8080/"
        },
        "id": "KH0OVoRA-y7f",
        "outputId": "363e407a-c4d9-4432-a8d4-bf5470a8b5d7"
      },
      "execution_count": null,
      "outputs": [
        {
          "output_type": "stream",
          "name": "stdout",
          "text": [
            "('503996WI Edouard', 31)\n",
            "('957149WC Kyle', 31)\n",
            "('241316NX Kumiko', 31)\n",
            "('796656IE Gaston', 31)\n",
            "('718737IX Ayumi', 30)\n"
          ]
        }
      ]
    },
    {
      "cell_type": "code",
      "source": [
        "class ProcessWords(beam.DoFn):\n",
        "  def process(self, element, cutoff_length, marker):\n",
        "    name = element.split(',')[1]\n",
        "\n",
        "    if len(name) <= cutoff_length:\n",
        "      return [beam.pvalue.TaggedOutput('Short_Names', name)]\n",
        "\n",
        "    else:\n",
        "      return [beam.pvalue.TaggedOutput('Long_Names', name)]\n",
        "\n",
        "    if name.startswith(marker):\n",
        "      return name\n",
        "\n",
        "p = beam.Pipeline()\n",
        "\n",
        "results = (p\n",
        "           | beam.io.ReadFromText('data/dept_data.txt')\n",
        "           | beam.ParDo(ProcessWords(), cutoff_length=4, marker='A').with_outputs(\n",
        "              'Short_Names', 'Long_Names', main='Names_A'\n",
        "           ))\n",
        "\n",
        "short_collection = results.Short_Names\n",
        "long_collection = results.Long_Names\n",
        "startA_collection = results.Names_A\n",
        "\n",
        "short_collection | 'Write 1' >> beam.io.WriteToText('short')\n",
        "\n",
        "long_collection | 'Write 2' >> beam.io.WriteToText('long')\n",
        "\n",
        "startA_collection | 'Write 3' >> beam.io.WriteToText('start_a')\n",
        "\n",
        "p.run()"
      ],
      "metadata": {
        "colab": {
          "base_uri": "https://localhost:8080/"
        },
        "id": "XYZB8yVk-_3y",
        "outputId": "816c7278-2dce-4e18-ea6e-a4d2a130d5af"
      },
      "execution_count": null,
      "outputs": [
        {
          "output_type": "execute_result",
          "data": {
            "text/plain": [
              "<apache_beam.runners.portability.fn_api_runner.fn_runner.RunnerResult at 0x7fba290b2e60>"
            ]
          },
          "metadata": {},
          "execution_count": 37
        }
      ]
    },
    {
      "cell_type": "code",
      "source": [
        "!head -n 10 short-00000-of-00001"
      ],
      "metadata": {
        "colab": {
          "base_uri": "https://localhost:8080/"
        },
        "id": "8EwxsmEnS0OJ",
        "outputId": "6ed15c41-71c0-4e58-c682-9af87baeb558"
      },
      "execution_count": null,
      "outputs": [
        {
          "output_type": "stream",
          "name": "stdout",
          "text": [
            "Itoe\n",
            "Kyle\n",
            "Kyle\n",
            "Olga\n",
            "Kirk\n",
            "Itoe\n",
            "Kyle\n",
            "Kyle\n",
            "Olga\n",
            "Kirk\n"
          ]
        }
      ]
    },
    {
      "cell_type": "code",
      "source": [
        "!head -n 10 long-00000-of-00001"
      ],
      "metadata": {
        "colab": {
          "base_uri": "https://localhost:8080/"
        },
        "id": "JOfaorKkU9jH",
        "outputId": "07837ca6-2b87-45e2-b6b3-93e7ac3b4bd9"
      },
      "execution_count": null,
      "outputs": [
        {
          "output_type": "stream",
          "name": "stdout",
          "text": [
            "Marco\n",
            "Rebekah\n",
            "Edouard\n",
            "Kumiko\n",
            "Gaston\n",
            "Beryl\n",
            "Leslie\n",
            "Mindy\n",
            "Vicky\n",
            "Richard\n"
          ]
        }
      ]
    },
    {
      "cell_type": "code",
      "source": [
        "!head -n 10 start_a-00000-of-00001"
      ],
      "metadata": {
        "id": "sokMhsQXVKOz"
      },
      "execution_count": null,
      "outputs": []
    },
    {
      "cell_type": "code",
      "source": [],
      "metadata": {
        "id": "6fxc7KfwVMyp"
      },
      "execution_count": null,
      "outputs": []
    }
  ]
}