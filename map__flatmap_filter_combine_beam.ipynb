{
  "nbformat": 4,
  "nbformat_minor": 0,
  "metadata": {
    "colab": {
      "provenance": [],
      "authorship_tag": "ABX9TyPRKMBg72oB8qDzHK0712g+",
      "include_colab_link": true
    },
    "kernelspec": {
      "name": "python3",
      "display_name": "Python 3"
    },
    "language_info": {
      "name": "python"
    }
  },
  "cells": [
    {
      "cell_type": "markdown",
      "metadata": {
        "id": "view-in-github",
        "colab_type": "text"
      },
      "source": [
        "<a href=\"https://colab.research.google.com/github/rashida048/Apache-Beam/blob/main/map__flatmap_filter_combine_beam.ipynb\" target=\"_parent\"><img src=\"https://colab.research.google.com/assets/colab-badge.svg\" alt=\"Open In Colab\"/></a>"
      ]
    },
    {
      "cell_type": "code",
      "execution_count": 1,
      "metadata": {
        "colab": {
          "base_uri": "https://localhost:8080/"
        },
        "id": "DxcteptLV05W",
        "outputId": "34ce8133-d9af-4204-bbc0-e0d6499cd958"
      },
      "outputs": [
        {
          "output_type": "stream",
          "name": "stdout",
          "text": [
            "\u001b[2K     \u001b[90m━━━━━━━━━━━━━━━━━━━━━━━━━━━━━━━━━━━━━━━━\u001b[0m \u001b[32m14.3/14.3 MB\u001b[0m \u001b[31m40.9 MB/s\u001b[0m eta \u001b[36m0:00:00\u001b[0m\n",
            "\u001b[2K     \u001b[90m━━━━━━━━━━━━━━━━━━━━━━━━━━━━━━━━━━━━━━━━\u001b[0m \u001b[32m89.7/89.7 kB\u001b[0m \u001b[31m6.4 MB/s\u001b[0m eta \u001b[36m0:00:00\u001b[0m\n",
            "\u001b[?25h  Preparing metadata (setup.py) ... \u001b[?25l\u001b[?25hdone\n",
            "\u001b[2K     \u001b[90m━━━━━━━━━━━━━━━━━━━━━━━━━━━━━━━━━━━━━━\u001b[0m \u001b[32m137.0/137.0 kB\u001b[0m \u001b[31m15.1 MB/s\u001b[0m eta \u001b[36m0:00:00\u001b[0m\n",
            "\u001b[2K     \u001b[90m━━━━━━━━━━━━━━━━━━━━━━━━━━━━━━━━━━━━━━\u001b[0m \u001b[32m152.0/152.0 kB\u001b[0m \u001b[31m16.3 MB/s\u001b[0m eta \u001b[36m0:00:00\u001b[0m\n",
            "\u001b[?25h  Preparing metadata (setup.py) ... \u001b[?25l\u001b[?25hdone\n",
            "\u001b[2K     \u001b[90m━━━━━━━━━━━━━━━━━━━━━━━━━━━━━━━━━━━━━━━━\u001b[0m \u001b[32m2.6/2.6 MB\u001b[0m \u001b[31m91.7 MB/s\u001b[0m eta \u001b[36m0:00:00\u001b[0m\n",
            "\u001b[2K     \u001b[90m━━━━━━━━━━━━━━━━━━━━━━━━━━━━━━━━━━━━━━\u001b[0m \u001b[32m648.9/648.9 kB\u001b[0m \u001b[31m42.5 MB/s\u001b[0m eta \u001b[36m0:00:00\u001b[0m\n",
            "\u001b[2K     \u001b[90m━━━━━━━━━━━━━━━━━━━━━━━━━━━━━━━━━━━━━━━━\u001b[0m \u001b[32m2.7/2.7 MB\u001b[0m \u001b[31m90.9 MB/s\u001b[0m eta \u001b[36m0:00:00\u001b[0m\n",
            "\u001b[?25h  Preparing metadata (setup.py) ... \u001b[?25l\u001b[?25hdone\n",
            "\u001b[2K     \u001b[90m━━━━━━━━━━━━━━━━━━━━━━━━━━━━━━━━━━━━━━\u001b[0m \u001b[32m283.7/283.7 kB\u001b[0m \u001b[31m24.8 MB/s\u001b[0m eta \u001b[36m0:00:00\u001b[0m\n",
            "\u001b[?25h  Building wheel for crcmod (setup.py) ... \u001b[?25l\u001b[?25hdone\n",
            "  Building wheel for dill (setup.py) ... \u001b[?25l\u001b[?25hdone\n",
            "  Building wheel for docopt (setup.py) ... \u001b[?25l\u001b[?25hdone\n"
          ]
        }
      ],
      "source": [
        "!pip install --quiet apache_beam"
      ]
    },
    {
      "cell_type": "code",
      "source": [
        "mkdir -p data"
      ],
      "metadata": {
        "id": "-3y3uGhVV7zc"
      },
      "execution_count": 2,
      "outputs": []
    },
    {
      "cell_type": "code",
      "source": [
        "ls"
      ],
      "metadata": {
        "colab": {
          "base_uri": "https://localhost:8080/"
        },
        "id": "85kxqL-SWBse",
        "outputId": "13ebb348-5710-457e-a9fe-25e05abb0981"
      },
      "execution_count": 3,
      "outputs": [
        {
          "output_type": "stream",
          "name": "stdout",
          "text": [
            "\u001b[0m\u001b[01;34mdata\u001b[0m/  \u001b[01;34msample_data\u001b[0m/\n"
          ]
        }
      ]
    },
    {
      "cell_type": "code",
      "source": [
        "import apache_beam as beam\n",
        "p1 = beam.Pipeline()\n",
        "\n",
        "attendance_count = (p1\n",
        "                    |beam.io.ReadFromText('data/dept_data.txt')\n",
        "                    |beam.io.WriteToText('data/output_new'))\n",
        "\n",
        "p1.run()"
      ],
      "metadata": {
        "colab": {
          "base_uri": "https://localhost:8080/",
          "height": 72
        },
        "id": "f5u88_l_WCWn",
        "outputId": "54d85701-d660-42b6-9bfe-6dfa0494b712"
      },
      "execution_count": 5,
      "outputs": [
        {
          "output_type": "stream",
          "name": "stderr",
          "text": [
            "WARNING:apache_beam.runners.interactive.interactive_environment:Dependencies required for Interactive Beam PCollection visualization are not available, please use: `pip install apache-beam[interactive]` to install necessary dependencies to enable all data visualization features.\n"
          ]
        },
        {
          "output_type": "display_data",
          "data": {
            "application/javascript": [
              "\n",
              "        if (typeof window.interactive_beam_jquery == 'undefined') {\n",
              "          var jqueryScript = document.createElement('script');\n",
              "          jqueryScript.src = 'https://code.jquery.com/jquery-3.4.1.slim.min.js';\n",
              "          jqueryScript.type = 'text/javascript';\n",
              "          jqueryScript.onload = function() {\n",
              "            var datatableScript = document.createElement('script');\n",
              "            datatableScript.src = 'https://cdn.datatables.net/1.10.20/js/jquery.dataTables.min.js';\n",
              "            datatableScript.type = 'text/javascript';\n",
              "            datatableScript.onload = function() {\n",
              "              window.interactive_beam_jquery = jQuery.noConflict(true);\n",
              "              window.interactive_beam_jquery(document).ready(function($){\n",
              "                \n",
              "              });\n",
              "            }\n",
              "            document.head.appendChild(datatableScript);\n",
              "          };\n",
              "          document.head.appendChild(jqueryScript);\n",
              "        } else {\n",
              "          window.interactive_beam_jquery(document).ready(function($){\n",
              "            \n",
              "          });\n",
              "        }"
            ]
          },
          "metadata": {}
        },
        {
          "output_type": "execute_result",
          "data": {
            "text/plain": [
              "<apache_beam.runners.portability.fn_api_runner.fn_runner.RunnerResult at 0x7f36116512a0>"
            ]
          },
          "metadata": {},
          "execution_count": 5
        }
      ]
    },
    {
      "cell_type": "code",
      "source": [
        "!head -n 5 data/output_new-00000-of-00001"
      ],
      "metadata": {
        "colab": {
          "base_uri": "https://localhost:8080/"
        },
        "id": "kYiShpcUW1eW",
        "outputId": "9497856b-7d1e-420b-f721-44bb5d01d62d"
      },
      "execution_count": 7,
      "outputs": [
        {
          "output_type": "stream",
          "name": "stdout",
          "text": [
            "149633CM,Marco,10,Accounts,1-01-2019\n",
            "212539MU,Rebekah,10,Accounts,1-01-2019\n",
            "231555ZZ,Itoe,10,Accounts,1-01-2019\n",
            "503996WI,Edouard,10,Accounts,1-01-2019\n",
            "704275DC,Kyle,10,Accounts,1-01-2019\n"
          ]
        }
      ]
    },
    {
      "cell_type": "code",
      "source": [
        "def SplitRow(element):\n",
        "  return element.split(',')\n",
        "\n",
        "p2 = beam.Pipeline()\n",
        "attendance_count = (p2\n",
        "                    |beam.io.ReadFromText('data/dept_data.txt')\n",
        "                    |beam.Map(SplitRow)\n",
        "                    |beam.io.WriteToText('data/output_new1'))\n",
        "\n",
        "p2.run()"
      ],
      "metadata": {
        "colab": {
          "base_uri": "https://localhost:8080/"
        },
        "id": "CDB2pLznXE3Q",
        "outputId": "f7078234-0a5c-4889-cba6-9ed23f3c9d21"
      },
      "execution_count": 9,
      "outputs": [
        {
          "output_type": "execute_result",
          "data": {
            "text/plain": [
              "<apache_beam.runners.portability.fn_api_runner.fn_runner.RunnerResult at 0x7fed404dc0d0>"
            ]
          },
          "metadata": {},
          "execution_count": 9
        }
      ]
    },
    {
      "cell_type": "code",
      "source": [
        "!head -n 5 data/output_new1-00000-of-00001"
      ],
      "metadata": {
        "colab": {
          "base_uri": "https://localhost:8080/"
        },
        "id": "574OzJC6XrWA",
        "outputId": "f3c2e629-6332-4785-d195-083540f4793c"
      },
      "execution_count": 10,
      "outputs": [
        {
          "output_type": "stream",
          "name": "stdout",
          "text": [
            "['149633CM', 'Marco', '10', 'Accounts', '1-01-2019']\n",
            "['212539MU', 'Rebekah', '10', 'Accounts', '1-01-2019']\n",
            "['231555ZZ', 'Itoe', '10', 'Accounts', '1-01-2019']\n",
            "['503996WI', 'Edouard', '10', 'Accounts', '1-01-2019']\n",
            "['704275DC', 'Kyle', '10', 'Accounts', '1-01-2019']\n"
          ]
        }
      ]
    },
    {
      "cell_type": "code",
      "source": [
        "def SplitRow(element):\n",
        "  return element.split(',')\n",
        "\n",
        "p3 = beam.Pipeline()\n",
        "attendance_count = (p3\n",
        "                    |beam.io.ReadFromText('data/dept_data.txt')\n",
        "                    |beam.FlatMap(SplitRow)\n",
        "                    |beam.io.WriteToText('data/output_new3'))\n",
        "\n",
        "p3.run()"
      ],
      "metadata": {
        "colab": {
          "base_uri": "https://localhost:8080/"
        },
        "id": "fizxwU9BXv8Q",
        "outputId": "5b20a946-999a-4127-f872-1ff444ff3482"
      },
      "execution_count": 11,
      "outputs": [
        {
          "output_type": "execute_result",
          "data": {
            "text/plain": [
              "<apache_beam.runners.portability.fn_api_runner.fn_runner.RunnerResult at 0x7fed42715420>"
            ]
          },
          "metadata": {},
          "execution_count": 11
        }
      ]
    },
    {
      "cell_type": "code",
      "source": [
        "!head -n 5 data/output_new3-00000-of-00001"
      ],
      "metadata": {
        "colab": {
          "base_uri": "https://localhost:8080/"
        },
        "id": "p0jEkJowYbQ1",
        "outputId": "afdb94c2-b83d-425a-d760-9f3125371d87"
      },
      "execution_count": 12,
      "outputs": [
        {
          "output_type": "stream",
          "name": "stdout",
          "text": [
            "149633CM\n",
            "Marco\n",
            "10\n",
            "Accounts\n",
            "1-01-2019\n"
          ]
        }
      ]
    },
    {
      "cell_type": "code",
      "source": [
        "def SplitRow(element):\n",
        "  return [element.split(',')]\n",
        "\n",
        "p4 = beam.Pipeline()\n",
        "attendance_count = (p4\n",
        "                    |beam.io.ReadFromText('data/dept_data.txt')\n",
        "                    |beam.FlatMap(SplitRow)\n",
        "                    |beam.io.WriteToText('data/output_new4'))\n",
        "\n",
        "p4.run()\n",
        "!head -n 5 data/output_new4-00000-of-00001"
      ],
      "metadata": {
        "colab": {
          "base_uri": "https://localhost:8080/"
        },
        "id": "KVJhm8urYceX",
        "outputId": "77b54706-cc86-4126-de6d-801e6676d91e"
      },
      "execution_count": 13,
      "outputs": [
        {
          "output_type": "stream",
          "name": "stdout",
          "text": [
            "['149633CM', 'Marco', '10', 'Accounts', '1-01-2019']\n",
            "['212539MU', 'Rebekah', '10', 'Accounts', '1-01-2019']\n",
            "['231555ZZ', 'Itoe', '10', 'Accounts', '1-01-2019']\n",
            "['503996WI', 'Edouard', '10', 'Accounts', '1-01-2019']\n",
            "['704275DC', 'Kyle', '10', 'Accounts', '1-01-2019']\n"
          ]
        }
      ]
    },
    {
      "cell_type": "code",
      "source": [
        "def SplitRow(element):\n",
        "  return element.split(',')\n",
        "\n",
        "def filtering(record):\n",
        "  return record[3] == \"Accounts\"\n",
        "\n",
        "p5 = beam.Pipeline()\n",
        "attendance_count = (p5\n",
        "                    |beam.io.ReadFromText('data/dept_data.txt')\n",
        "                    |beam.Map(SplitRow)\n",
        "                    |beam.Filter(filtering)\n",
        "                    |beam.io.WriteToText('data/output_new5'))\n",
        "\n",
        "p5.run()\n",
        "!head -n 5 data/output_new5-00000-of-00001"
      ],
      "metadata": {
        "colab": {
          "base_uri": "https://localhost:8080/"
        },
        "id": "3fI0ncxeYr5U",
        "outputId": "0983cb81-5d38-429e-c2ee-55948c029e51"
      },
      "execution_count": 15,
      "outputs": [
        {
          "output_type": "stream",
          "name": "stdout",
          "text": [
            "['149633CM', 'Marco', '10', 'Accounts', '1-01-2019']\n",
            "['212539MU', 'Rebekah', '10', 'Accounts', '1-01-2019']\n",
            "['231555ZZ', 'Itoe', '10', 'Accounts', '1-01-2019']\n",
            "['503996WI', 'Edouard', '10', 'Accounts', '1-01-2019']\n",
            "['704275DC', 'Kyle', '10', 'Accounts', '1-01-2019']\n"
          ]
        }
      ]
    },
    {
      "cell_type": "code",
      "source": [
        "def SplitRow(element):\n",
        "  return element.split(',')\n",
        "\n",
        "def filtering(record):\n",
        "  return record[3] == \"Accounts\"\n",
        "\n",
        "p6 = beam.Pipeline()\n",
        "attendance_count = (p6\n",
        "                    |beam.io.ReadFromText('data/dept_data.txt')\n",
        "                    |beam.Map(SplitRow)\n",
        "                    #|beam.Map(lambda record: record.split(',))\n",
        "                    |beam.Filter(filtering)\n",
        "                    #|beam.Map(lambda record: record[3] == 'Account')\n",
        "                    |beam.Map(lambda record: (record[1], 1))\n",
        "                    |beam.io.WriteToText('data/output_new6'))\n",
        "\n",
        "p6.run()\n",
        "!head -n 5 data/output_new6-00000-of-00001"
      ],
      "metadata": {
        "colab": {
          "base_uri": "https://localhost:8080/"
        },
        "id": "zAWN-PpGZyOJ",
        "outputId": "07424ef1-dd73-4a3e-8cd9-d4bcaf5f5b05"
      },
      "execution_count": 17,
      "outputs": [
        {
          "output_type": "stream",
          "name": "stderr",
          "text": [
            "WARNING:apache_beam.io.filebasedsink:Deleting 1 existing files in target path matching: -*-of-%(num_shards)05d\n"
          ]
        },
        {
          "output_type": "stream",
          "name": "stdout",
          "text": [
            "('Marco', 1)\n",
            "('Rebekah', 1)\n",
            "('Itoe', 1)\n",
            "('Edouard', 1)\n",
            "('Kyle', 1)\n"
          ]
        }
      ]
    },
    {
      "cell_type": "code",
      "source": [
        "import apache_beam as beam\n",
        "def SplitRow(element):\n",
        "  return element.split(',')\n",
        "\n",
        "def filtering(record):\n",
        "  return record[3] == \"Accounts\"\n",
        "\n",
        "p7 = beam.Pipeline()\n",
        "attendance_count = (p7\n",
        "                    |beam.io.ReadFromText('data/dept_data.txt')\n",
        "                    |beam.Map(SplitRow)\n",
        "                    #|beam.Map(lambda record: record.split(',))\n",
        "                    |beam.Filter(filtering)\n",
        "                    #|beam.Map(lambda record: record[3] == 'Account')\n",
        "                    |beam.Map(lambda record: (record[1], 1))\n",
        "                    |beam.CombinePerKey(sum)\n",
        "                    |beam.io.WriteToText('data/output_new7'))\n",
        "\n",
        "p7.run()\n",
        "!head -n 5 data/output_new7-00000-of-00001"
      ],
      "metadata": {
        "colab": {
          "base_uri": "https://localhost:8080/",
          "height": 141
        },
        "id": "qpxRAIGkab_q",
        "outputId": "e7b46de0-bd16-4c65-b3b9-09a610697be5"
      },
      "execution_count": 6,
      "outputs": [
        {
          "output_type": "stream",
          "name": "stderr",
          "text": [
            "WARNING:apache_beam.runners.interactive.interactive_environment:Dependencies required for Interactive Beam PCollection visualization are not available, please use: `pip install apache-beam[interactive]` to install necessary dependencies to enable all data visualization features.\n"
          ]
        },
        {
          "output_type": "display_data",
          "data": {
            "application/javascript": [
              "\n",
              "        if (typeof window.interactive_beam_jquery == 'undefined') {\n",
              "          var jqueryScript = document.createElement('script');\n",
              "          jqueryScript.src = 'https://code.jquery.com/jquery-3.4.1.slim.min.js';\n",
              "          jqueryScript.type = 'text/javascript';\n",
              "          jqueryScript.onload = function() {\n",
              "            var datatableScript = document.createElement('script');\n",
              "            datatableScript.src = 'https://cdn.datatables.net/1.10.20/js/jquery.dataTables.min.js';\n",
              "            datatableScript.type = 'text/javascript';\n",
              "            datatableScript.onload = function() {\n",
              "              window.interactive_beam_jquery = jQuery.noConflict(true);\n",
              "              window.interactive_beam_jquery(document).ready(function($){\n",
              "                \n",
              "              });\n",
              "            }\n",
              "            document.head.appendChild(datatableScript);\n",
              "          };\n",
              "          document.head.appendChild(jqueryScript);\n",
              "        } else {\n",
              "          window.interactive_beam_jquery(document).ready(function($){\n",
              "            \n",
              "          });\n",
              "        }"
            ]
          },
          "metadata": {}
        },
        {
          "output_type": "stream",
          "name": "stdout",
          "text": [
            "('Marco', 31)\n",
            "('Rebekah', 31)\n",
            "('Itoe', 31)\n",
            "('Edouard', 31)\n",
            "('Kyle', 62)\n"
          ]
        }
      ]
    },
    {
      "cell_type": "code",
      "source": [
        "import apache_beam as beam\n",
        "\n",
        "p8 = beam.Pipeline()\n",
        "\n",
        "attendance_count = (p8\n",
        "                    |'Read from file' >> beam.io.ReadFromText('data/dept_data.txt')\n",
        "                    |'Map transform' >> beam.Map(SplitRow)\n",
        "                    #|beam.Map(lambda record: record.split(',))\n",
        "                    |beam.Filter(filtering)\n",
        "                    #|beam.Map(lambda record: record[3] == 'Account')\n",
        "                    |beam.Map(lambda record: (record[1], 1))\n",
        "                    |beam.CombinePerKey(sum)\n",
        "                    |beam.io.WriteToText('data/output_new8'))\n",
        "\n",
        "p8.run()\n",
        "!head -n 5 data/output_new8-00000-of-00001"
      ],
      "metadata": {
        "colab": {
          "base_uri": "https://localhost:8080/"
        },
        "id": "I9rfgjCs0ILL",
        "outputId": "272eb96e-d2d7-4b1c-d118-1e5ac24dae80"
      },
      "execution_count": 8,
      "outputs": [
        {
          "output_type": "stream",
          "name": "stdout",
          "text": [
            "('Marco', 31)\n",
            "('Rebekah', 31)\n",
            "('Itoe', 31)\n",
            "('Edouard', 31)\n",
            "('Kyle', 62)\n"
          ]
        }
      ]
    },
    {
      "cell_type": "code",
      "source": [
        "import apache_beam as beam\n",
        "with beam.Pipeline() as p9:\n",
        "  attendance_count = (p9\n",
        "                    |'Read from file' >> beam.io.ReadFromText('data/dept_data.txt')\n",
        "                    |'Map transform' >> beam.Map(SplitRow)\n",
        "                    #|beam.Map(lambda record: record.split(',))\n",
        "                    |beam.Filter(filtering)\n",
        "                    #|beam.Map(lambda record: record[3] == 'Account')\n",
        "                    |beam.Map(lambda record: (record[1], 1))\n",
        "                    |beam.CombinePerKey(sum)\n",
        "                    |beam.io.WriteToText('data/output_new9'))\n",
        "\n",
        "#p8.run()\n",
        "!head -n 5 data/output_new9-00000-of-00001"
      ],
      "metadata": {
        "colab": {
          "base_uri": "https://localhost:8080/"
        },
        "id": "iOjX3nyZ1pne",
        "outputId": "ee676638-d7f7-4b32-964e-84690f9225be"
      },
      "execution_count": 9,
      "outputs": [
        {
          "output_type": "stream",
          "name": "stdout",
          "text": [
            "('Marco', 31)\n",
            "('Rebekah', 31)\n",
            "('Itoe', 31)\n",
            "('Edouard', 31)\n",
            "('Kyle', 62)\n"
          ]
        }
      ]
    },
    {
      "cell_type": "code",
      "source": [
        "def SplitRow(element):\n",
        "  return element.split(',')\n",
        "\n",
        "def filtering(record):\n",
        "  return record[3] == \"Accounts\"\n",
        "\n",
        "p10 = beam.Pipeline()\n",
        "\n",
        "input_collection = (p10\n",
        "                    |'Read from text file' >> beam.io.ReadFromText('data/dept_data.txt')\n",
        "                    |'Split rows' >> beam.Map(SplitRow)\n",
        "                    )\n",
        "\n",
        "accounts_count = (\n",
        "    input_collection\n",
        "    | 'Get all Accounts dept persons' >> beam.Filter(lambda record: record[3] == 'Accounts')\n",
        "    | 'Pair each Accounts employee with 1' >> beam.Map(lambda record: (record[1], 1))\n",
        "    | 'Group and sum1' >> beam.CombinePerKey(sum)\n",
        "    | 'Write results for Accounts' >> beam.io.WriteToText('data/Accounts')\n",
        ")\n",
        "\n",
        "hr_count = (\n",
        "    input_collection\n",
        "    | 'Get all HR dept persons' >> beam.Filter(lambda record: record[3] == 'HR')\n",
        "    | 'Pair each HR employee with 1' >> beam.Map(lambda record: (record[1], 1))\n",
        "    | 'Group and sum2' >> beam.CombinePerKey(sum)\n",
        "    | 'Write results for HR' >> beam.io.WriteToText('data/HR')\n",
        ")\n",
        "\n",
        "p10.run()"
      ],
      "metadata": {
        "colab": {
          "base_uri": "https://localhost:8080/"
        },
        "id": "Zhz38ma617wX",
        "outputId": "2586947a-c2ca-4ea4-b411-18fce301276b"
      },
      "execution_count": 12,
      "outputs": [
        {
          "output_type": "execute_result",
          "data": {
            "text/plain": [
              "<apache_beam.runners.portability.fn_api_runner.fn_runner.RunnerResult at 0x7f3609763760>"
            ]
          },
          "metadata": {},
          "execution_count": 12
        }
      ]
    },
    {
      "cell_type": "code",
      "source": [
        "!head -n 10 data/HR-00000-of-00001"
      ],
      "metadata": {
        "colab": {
          "base_uri": "https://localhost:8080/"
        },
        "id": "S6iyYgwPRbD1",
        "outputId": "4d6b6848-a5bf-4b1c-ed05-57599f240e1f"
      },
      "execution_count": 13,
      "outputs": [
        {
          "output_type": "stream",
          "name": "stdout",
          "text": [
            "('Beryl', 62)\n",
            "('Olga', 31)\n",
            "('Leslie', 31)\n",
            "('Mindy', 31)\n",
            "('Vicky', 31)\n",
            "('Richard', 31)\n",
            "('Kirk', 31)\n",
            "('Kaori', 31)\n",
            "('Oscar', 31)\n"
          ]
        }
      ]
    },
    {
      "cell_type": "code",
      "source": [
        "!head -n 10 data/Accounts-00000-of-00001"
      ],
      "metadata": {
        "colab": {
          "base_uri": "https://localhost:8080/"
        },
        "id": "1QP2hI6lRxfz",
        "outputId": "a628d8e4-507c-479c-c802-8c8def2daf5c"
      },
      "execution_count": 14,
      "outputs": [
        {
          "output_type": "stream",
          "name": "stdout",
          "text": [
            "('Marco', 31)\n",
            "('Rebekah', 31)\n",
            "('Itoe', 31)\n",
            "('Edouard', 31)\n",
            "('Kyle', 62)\n",
            "('Kumiko', 31)\n",
            "('Gaston', 31)\n",
            "('Ayumi', 30)\n"
          ]
        }
      ]
    },
    {
      "cell_type": "code",
      "source": [
        "def SplitRow(element):\n",
        "  return element.split(',')\n",
        "\n",
        "def filtering(record):\n",
        "  return record[3] == \"Accounts\"\n",
        "\n",
        "p11 = beam.Pipeline()\n",
        "\n",
        "input_collection = (p11\n",
        "                    |'Read from text file' >> beam.io.ReadFromText('data/dept_data.txt')\n",
        "                    |'Split rows' >> beam.Map(SplitRow)\n",
        "                    )\n",
        "\n",
        "accounts_count = (\n",
        "    input_collection\n",
        "    | 'Get all Accounts dept persons' >> beam.Filter(lambda record: record[3] == 'Accounts')\n",
        "    | 'Pair each Accounts employee with 1' >> beam.Map(lambda record: (\"Accounts \" + record[1], 1))\n",
        "    | 'Group and sum1' >> beam.CombinePerKey(sum)\n",
        "    #| 'Write results for Accounts' >> beam.io.WriteToText('data/Accounts1')\n",
        ")\n",
        "\n",
        "hr_count = (\n",
        "    input_collection\n",
        "    | 'Get all HR dept persons' >> beam.Filter(lambda record: record[3] == 'HR')\n",
        "    | 'Pair each HR employee with 1' >> beam.Map(lambda record: (\"HR \" + record[1], 1))\n",
        "    | 'Group and sum2' >> beam.CombinePerKey(sum)\n",
        "    #| 'Write results for HR' >> beam.io.WriteToText('data/HR1')\n",
        ")\n",
        "\n",
        "output = (\n",
        "    (accounts_count, hr_count)\n",
        "    |beam.Flatten()\n",
        "    |beam.io.WriteToText('data/both')\n",
        ")\n",
        "\n",
        "p11.run()\n",
        "\n",
        "!head -n 10 data/both-00000-of-00001"
      ],
      "metadata": {
        "colab": {
          "base_uri": "https://localhost:8080/"
        },
        "id": "f8jehDwCR95B",
        "outputId": "8f6b9272-255a-4d73-980f-3dd0052d62f8"
      },
      "execution_count": 15,
      "outputs": [
        {
          "output_type": "stream",
          "name": "stdout",
          "text": [
            "('Accounts Marco', 31)\n",
            "('Accounts Rebekah', 31)\n",
            "('Accounts Itoe', 31)\n",
            "('Accounts Edouard', 31)\n",
            "('Accounts Kyle', 62)\n",
            "('Accounts Kumiko', 31)\n",
            "('Accounts Gaston', 31)\n",
            "('Accounts Ayumi', 30)\n",
            "('HR Beryl', 62)\n",
            "('HR Olga', 31)\n"
          ]
        }
      ]
    },
    {
      "cell_type": "code",
      "source": [
        "import apache_beam as beam\n",
        "import re\n",
        "p=beam.Pipeline()\n",
        "intpt_c=(\n",
        "    p\n",
        "    |beam.io.ReadFromText('data/data.txt')\n",
        "    |beam.FlatMap(lambda line:re.findall(r\"[a-zA-Z']+\", line))\n",
        "    |beam.Map(lambda word: (word,1))\n",
        "    |beam.CombinePerKey(sum)\n",
        "    |beam.Map(lambda word_count: str(word_count))\n",
        "    |beam.io.WriteToText('data/op')\n",
        "\n",
        ")\n",
        "p.run()\n",
        "!head -n 20 data/op-*"
      ],
      "metadata": {
        "colab": {
          "base_uri": "https://localhost:8080/"
        },
        "id": "FMHGCbVBVitN",
        "outputId": "7e35cb64-b008-45b6-fa00-5716842ed3f3"
      },
      "execution_count": 16,
      "outputs": [
        {
          "output_type": "stream",
          "name": "stdout",
          "text": [
            "('KING', 243)\n",
            "('LEAR', 236)\n",
            "('DRAMATIS', 1)\n",
            "('PERSONAE', 1)\n",
            "('king', 65)\n",
            "('of', 447)\n",
            "('Britain', 2)\n",
            "('OF', 15)\n",
            "('FRANCE', 10)\n",
            "('DUKE', 3)\n",
            "('BURGUNDY', 8)\n",
            "('CORNWALL', 63)\n",
            "('ALBANY', 67)\n",
            "('EARL', 2)\n",
            "('KENT', 156)\n",
            "('GLOUCESTER', 141)\n",
            "('EDGAR', 126)\n",
            "('son', 29)\n",
            "('to', 438)\n",
            "('Gloucester', 26)\n"
          ]
        }
      ]
    },
    {
      "cell_type": "code",
      "source": [],
      "metadata": {
        "id": "yO9qHqDUaYOT"
      },
      "execution_count": null,
      "outputs": []
    }
  ]
}